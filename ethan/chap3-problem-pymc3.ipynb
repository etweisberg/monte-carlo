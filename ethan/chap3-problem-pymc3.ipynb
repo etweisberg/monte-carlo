{
 "cells": [
  {
   "cell_type": "markdown",
   "metadata": {},
   "source": [
    "# Problem 1\n",
    "Suppose the state space for a system of particles is $ Ω = \\{1, . . . , 8\\} $ and their allocation among these states is determined by the Boltzmann distribution. Let the energy of state x be $ E(x) = (x−3)^2 $. Use the Metropolis algorithm, with $ β = 1 $ (see (3.21)), to estimate the expected “blackbody radiation” of the system if the radiation r is equal to the fourth power of energy, that is, take $ r(E) = E^4 $. (Exact: 6.166.)"
   ]
  },
  {
   "cell_type": "code",
   "execution_count": null,
   "metadata": {},
   "outputs": [],
   "source": []
  }
 ],
 "metadata": {
  "kernelspec": {
   "display_name": "data",
   "language": "python",
   "name": "data"
  },
  "language_info": {
   "codemirror_mode": {
    "name": "ipython",
    "version": 3
   },
   "file_extension": ".py",
   "mimetype": "text/x-python",
   "name": "python",
   "nbconvert_exporter": "python",
   "pygments_lexer": "ipython3",
   "version": "3.7.9"
  }
 },
 "nbformat": 4,
 "nbformat_minor": 4
}
