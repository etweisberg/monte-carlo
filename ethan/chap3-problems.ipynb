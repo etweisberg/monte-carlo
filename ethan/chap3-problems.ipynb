{
 "cells": [
  {
   "cell_type": "markdown",
   "metadata": {},
   "source": [
    "# Problem 1\n",
    "Suppose the state space for a system of particles is $ Ω = \\{1, . . . , 8\\} $ and their allocation among these states is determined by the Boltzmann distribution. Let the energy of state x be $ E(x) = (x−3)^2 $. Use the Metropolis algorithm, with $ β = 1 $ (see (3.21)), to estimate the expected “blackbody radiation” of the system if the radiation r is equal to the fourth power of energy, that is, take $ r(E) = E^4 $. (Exact: 6.166.)"
   ]
  },
  {
   "cell_type": "code",
   "execution_count": 37,
   "metadata": {},
   "outputs": [],
   "source": [
    "import numpy as np\n",
    "import pandas as pd\n",
    "import matplotlib.pyplot as plt\n",
    "from tqdm.notebook import tnrange, tqdm"
   ]
  },
  {
   "cell_type": "code",
   "execution_count": 38,
   "metadata": {},
   "outputs": [],
   "source": [
    "def boltzmann_prob(x):\n",
    "    E_x = (x-3)**2\n",
    "    prob = np.exp(-E_x)\n",
    "    return prob"
   ]
  },
  {
   "cell_type": "code",
   "execution_count": 39,
   "metadata": {},
   "outputs": [],
   "source": [
    "def mcmc():\n",
    "    markov_chain = []\n",
    "    markov_chain.append(6)\n",
    "    \n",
    "    #generate trace of X with 1000000 Metropolis steps\n",
    "    for i in tnrange(1000000,desc='Markov Chain'):\n",
    "        current = markov_chain[i]\n",
    "        if current == 1:\n",
    "            proposition = current + np.random.choice([0,1])\n",
    "        elif current == 8:\n",
    "            proposition = current + np.random.choice([-1,0])\n",
    "        else:\n",
    "            proposition = current + np.random.choice([-1,1])\n",
    "        acceptance_ratio = boltzmann_prob(proposition)/boltzmann_prob(current)\n",
    "        if acceptance_ratio > 1:\n",
    "            acceptance_prob = 1\n",
    "        else:\n",
    "            acceptance_prob = acceptance_ratio\n",
    "        check = np.random.uniform(0,1)\n",
    "        if check > acceptance_prob:\n",
    "            markov_chain.append(current) #reject\n",
    "        else:\n",
    "            markov_chain.append(proposition) #accept\n",
    "    \n",
    "    #wipe first half of trace\n",
    "    markov_chain = markov_chain[-5000000:]\n",
    "    \n",
    "    #Calculating expected radiation value\n",
    "    markov_chain = np.array(markov_chain)\n",
    "    radiation = ((markov_chain-3)**2)**4\n",
    "    expected_rad = np.mean(radiation)\n",
    "    return expected_rad"
   ]
  },
  {
   "cell_type": "code",
   "execution_count": 40,
   "metadata": {
    "scrolled": true
   },
   "outputs": [
    {
     "data": {
      "application/vnd.jupyter.widget-view+json": {
       "model_id": "c352f5c9fcac4010b20e4b95fe5e9af1",
       "version_major": 2,
       "version_minor": 0
      },
      "text/plain": [
       "Set of Markov Chains:   0%|          | 0/100 [00:00<?, ?it/s]"
      ]
     },
     "metadata": {},
     "output_type": "display_data"
    },
    {
     "data": {
      "application/vnd.jupyter.widget-view+json": {
       "model_id": "02c8e4d61ca947f1aa8c4b2ef496a1a4",
       "version_major": 2,
       "version_minor": 0
      },
      "text/plain": [
       "Markov Chain:   0%|          | 0/1000000 [00:00<?, ?it/s]"
      ]
     },
     "metadata": {},
     "output_type": "display_data"
    },
    {
     "data": {
      "application/vnd.jupyter.widget-view+json": {
       "model_id": "25fd4f5863634509805921a170575ac2",
       "version_major": 2,
       "version_minor": 0
      },
      "text/plain": [
       "Markov Chain:   0%|          | 0/1000000 [00:00<?, ?it/s]"
      ]
     },
     "metadata": {},
     "output_type": "display_data"
    },
    {
     "data": {
      "application/vnd.jupyter.widget-view+json": {
       "model_id": "88337edd41fe446cbc2dbb80c6b52589",
       "version_major": 2,
       "version_minor": 0
      },
      "text/plain": [
       "Markov Chain:   0%|          | 0/1000000 [00:00<?, ?it/s]"
      ]
     },
     "metadata": {},
     "output_type": "display_data"
    },
    {
     "data": {
      "application/vnd.jupyter.widget-view+json": {
       "model_id": "e6ceb2b6a7964258a2f91ef01e8b200b",
       "version_major": 2,
       "version_minor": 0
      },
      "text/plain": [
       "Markov Chain:   0%|          | 0/1000000 [00:00<?, ?it/s]"
      ]
     },
     "metadata": {},
     "output_type": "display_data"
    },
    {
     "data": {
      "application/vnd.jupyter.widget-view+json": {
       "model_id": "4dcfc0b968734a5c9efe3da899b197a8",
       "version_major": 2,
       "version_minor": 0
      },
      "text/plain": [
       "Markov Chain:   0%|          | 0/1000000 [00:00<?, ?it/s]"
      ]
     },
     "metadata": {},
     "output_type": "display_data"
    },
    {
     "data": {
      "application/vnd.jupyter.widget-view+json": {
       "model_id": "760eb1bf369b4d9bac10461fe75998b7",
       "version_major": 2,
       "version_minor": 0
      },
      "text/plain": [
       "Markov Chain:   0%|          | 0/1000000 [00:00<?, ?it/s]"
      ]
     },
     "metadata": {},
     "output_type": "display_data"
    },
    {
     "data": {
      "application/vnd.jupyter.widget-view+json": {
       "model_id": "f34d0b817673413a98f910277b3fbc84",
       "version_major": 2,
       "version_minor": 0
      },
      "text/plain": [
       "Markov Chain:   0%|          | 0/1000000 [00:00<?, ?it/s]"
      ]
     },
     "metadata": {},
     "output_type": "display_data"
    },
    {
     "data": {
      "application/vnd.jupyter.widget-view+json": {
       "model_id": "16de751e630b4118968479ae0a86b565",
       "version_major": 2,
       "version_minor": 0
      },
      "text/plain": [
       "Markov Chain:   0%|          | 0/1000000 [00:00<?, ?it/s]"
      ]
     },
     "metadata": {},
     "output_type": "display_data"
    },
    {
     "data": {
      "application/vnd.jupyter.widget-view+json": {
       "model_id": "a4edcf1c69344d66a00d779baa965aaa",
       "version_major": 2,
       "version_minor": 0
      },
      "text/plain": [
       "Markov Chain:   0%|          | 0/1000000 [00:00<?, ?it/s]"
      ]
     },
     "metadata": {},
     "output_type": "display_data"
    },
    {
     "data": {
      "application/vnd.jupyter.widget-view+json": {
       "model_id": "42c5c041b3624bbeb9fc4f17e08ddaa9",
       "version_major": 2,
       "version_minor": 0
      },
      "text/plain": [
       "Markov Chain:   0%|          | 0/1000000 [00:00<?, ?it/s]"
      ]
     },
     "metadata": {},
     "output_type": "display_data"
    },
    {
     "data": {
      "application/vnd.jupyter.widget-view+json": {
       "model_id": "17a5e36e3b5b4fec8fb4ec84df2ae75a",
       "version_major": 2,
       "version_minor": 0
      },
      "text/plain": [
       "Markov Chain:   0%|          | 0/1000000 [00:00<?, ?it/s]"
      ]
     },
     "metadata": {},
     "output_type": "display_data"
    },
    {
     "data": {
      "application/vnd.jupyter.widget-view+json": {
       "model_id": "e8041b47d2b94e58a24dd93faa3f27bd",
       "version_major": 2,
       "version_minor": 0
      },
      "text/plain": [
       "Markov Chain:   0%|          | 0/1000000 [00:00<?, ?it/s]"
      ]
     },
     "metadata": {},
     "output_type": "display_data"
    },
    {
     "data": {
      "application/vnd.jupyter.widget-view+json": {
       "model_id": "2790ba8c44404619b3c6d55fb4ce48dd",
       "version_major": 2,
       "version_minor": 0
      },
      "text/plain": [
       "Markov Chain:   0%|          | 0/1000000 [00:00<?, ?it/s]"
      ]
     },
     "metadata": {},
     "output_type": "display_data"
    },
    {
     "data": {
      "application/vnd.jupyter.widget-view+json": {
       "model_id": "67af4b27de4047089eb285cf9d3dd415",
       "version_major": 2,
       "version_minor": 0
      },
      "text/plain": [
       "Markov Chain:   0%|          | 0/1000000 [00:00<?, ?it/s]"
      ]
     },
     "metadata": {},
     "output_type": "display_data"
    },
    {
     "data": {
      "application/vnd.jupyter.widget-view+json": {
       "model_id": "3fce148f28334906a3afb61e056479a9",
       "version_major": 2,
       "version_minor": 0
      },
      "text/plain": [
       "Markov Chain:   0%|          | 0/1000000 [00:00<?, ?it/s]"
      ]
     },
     "metadata": {},
     "output_type": "display_data"
    },
    {
     "data": {
      "application/vnd.jupyter.widget-view+json": {
       "model_id": "0f65d4952c46441b89132dc8d7dc5c11",
       "version_major": 2,
       "version_minor": 0
      },
      "text/plain": [
       "Markov Chain:   0%|          | 0/1000000 [00:00<?, ?it/s]"
      ]
     },
     "metadata": {},
     "output_type": "display_data"
    },
    {
     "data": {
      "application/vnd.jupyter.widget-view+json": {
       "model_id": "5b5aefd481fe46a98cb4ec44ea982206",
       "version_major": 2,
       "version_minor": 0
      },
      "text/plain": [
       "Markov Chain:   0%|          | 0/1000000 [00:00<?, ?it/s]"
      ]
     },
     "metadata": {},
     "output_type": "display_data"
    },
    {
     "data": {
      "application/vnd.jupyter.widget-view+json": {
       "model_id": "cdcecf0337524edd9bb0eebc9b5699a9",
       "version_major": 2,
       "version_minor": 0
      },
      "text/plain": [
       "Markov Chain:   0%|          | 0/1000000 [00:00<?, ?it/s]"
      ]
     },
     "metadata": {},
     "output_type": "display_data"
    },
    {
     "data": {
      "application/vnd.jupyter.widget-view+json": {
       "model_id": "9d6326333f264a22811f337b70dc01af",
       "version_major": 2,
       "version_minor": 0
      },
      "text/plain": [
       "Markov Chain:   0%|          | 0/1000000 [00:00<?, ?it/s]"
      ]
     },
     "metadata": {},
     "output_type": "display_data"
    },
    {
     "data": {
      "application/vnd.jupyter.widget-view+json": {
       "model_id": "c5a2bb2f34f24a6c9a459aaeaf206b2d",
       "version_major": 2,
       "version_minor": 0
      },
      "text/plain": [
       "Markov Chain:   0%|          | 0/1000000 [00:00<?, ?it/s]"
      ]
     },
     "metadata": {},
     "output_type": "display_data"
    },
    {
     "data": {
      "application/vnd.jupyter.widget-view+json": {
       "model_id": "9261ef471a97477686d50728b0a70473",
       "version_major": 2,
       "version_minor": 0
      },
      "text/plain": [
       "Markov Chain:   0%|          | 0/1000000 [00:00<?, ?it/s]"
      ]
     },
     "metadata": {},
     "output_type": "display_data"
    },
    {
     "data": {
      "application/vnd.jupyter.widget-view+json": {
       "model_id": "111d2e6c63ac4054944e0623bda34942",
       "version_major": 2,
       "version_minor": 0
      },
      "text/plain": [
       "Markov Chain:   0%|          | 0/1000000 [00:00<?, ?it/s]"
      ]
     },
     "metadata": {},
     "output_type": "display_data"
    },
    {
     "data": {
      "application/vnd.jupyter.widget-view+json": {
       "model_id": "b15de19ec2844f15b79f54dbb59e7a61",
       "version_major": 2,
       "version_minor": 0
      },
      "text/plain": [
       "Markov Chain:   0%|          | 0/1000000 [00:00<?, ?it/s]"
      ]
     },
     "metadata": {},
     "output_type": "display_data"
    },
    {
     "data": {
      "application/vnd.jupyter.widget-view+json": {
       "model_id": "86e632551a4643289db5c156675b3958",
       "version_major": 2,
       "version_minor": 0
      },
      "text/plain": [
       "Markov Chain:   0%|          | 0/1000000 [00:00<?, ?it/s]"
      ]
     },
     "metadata": {},
     "output_type": "display_data"
    },
    {
     "data": {
      "application/vnd.jupyter.widget-view+json": {
       "model_id": "0ee6e9ad65d543269b107f7eda3ded74",
       "version_major": 2,
       "version_minor": 0
      },
      "text/plain": [
       "Markov Chain:   0%|          | 0/1000000 [00:00<?, ?it/s]"
      ]
     },
     "metadata": {},
     "output_type": "display_data"
    },
    {
     "data": {
      "application/vnd.jupyter.widget-view+json": {
       "model_id": "bc17406293a54072ad0a7321e35eda3a",
       "version_major": 2,
       "version_minor": 0
      },
      "text/plain": [
       "Markov Chain:   0%|          | 0/1000000 [00:00<?, ?it/s]"
      ]
     },
     "metadata": {},
     "output_type": "display_data"
    },
    {
     "data": {
      "application/vnd.jupyter.widget-view+json": {
       "model_id": "94a84cacecf5479eb00370f954d3782a",
       "version_major": 2,
       "version_minor": 0
      },
      "text/plain": [
       "Markov Chain:   0%|          | 0/1000000 [00:00<?, ?it/s]"
      ]
     },
     "metadata": {},
     "output_type": "display_data"
    },
    {
     "data": {
      "application/vnd.jupyter.widget-view+json": {
       "model_id": "7ef8e61099c846c3b1c649b87f3e9f72",
       "version_major": 2,
       "version_minor": 0
      },
      "text/plain": [
       "Markov Chain:   0%|          | 0/1000000 [00:00<?, ?it/s]"
      ]
     },
     "metadata": {},
     "output_type": "display_data"
    },
    {
     "data": {
      "application/vnd.jupyter.widget-view+json": {
       "model_id": "2e3988ca79e54c739a313fada4cee19b",
       "version_major": 2,
       "version_minor": 0
      },
      "text/plain": [
       "Markov Chain:   0%|          | 0/1000000 [00:00<?, ?it/s]"
      ]
     },
     "metadata": {},
     "output_type": "display_data"
    },
    {
     "data": {
      "application/vnd.jupyter.widget-view+json": {
       "model_id": "eb9a746b875b47499c7809d087884f65",
       "version_major": 2,
       "version_minor": 0
      },
      "text/plain": [
       "Markov Chain:   0%|          | 0/1000000 [00:00<?, ?it/s]"
      ]
     },
     "metadata": {},
     "output_type": "display_data"
    },
    {
     "data": {
      "application/vnd.jupyter.widget-view+json": {
       "model_id": "4b588bc5908046489307c5baf9b3f7a3",
       "version_major": 2,
       "version_minor": 0
      },
      "text/plain": [
       "Markov Chain:   0%|          | 0/1000000 [00:00<?, ?it/s]"
      ]
     },
     "metadata": {},
     "output_type": "display_data"
    },
    {
     "data": {
      "application/vnd.jupyter.widget-view+json": {
       "model_id": "e1c8511201fb4593ae51da0aec36107a",
       "version_major": 2,
       "version_minor": 0
      },
      "text/plain": [
       "Markov Chain:   0%|          | 0/1000000 [00:00<?, ?it/s]"
      ]
     },
     "metadata": {},
     "output_type": "display_data"
    },
    {
     "data": {
      "application/vnd.jupyter.widget-view+json": {
       "model_id": "bf173221739f40acb9d8aedaa27ca31a",
       "version_major": 2,
       "version_minor": 0
      },
      "text/plain": [
       "Markov Chain:   0%|          | 0/1000000 [00:00<?, ?it/s]"
      ]
     },
     "metadata": {},
     "output_type": "display_data"
    },
    {
     "data": {
      "application/vnd.jupyter.widget-view+json": {
       "model_id": "32eac71aa5234ce0b0b4ec2a0c066a24",
       "version_major": 2,
       "version_minor": 0
      },
      "text/plain": [
       "Markov Chain:   0%|          | 0/1000000 [00:00<?, ?it/s]"
      ]
     },
     "metadata": {},
     "output_type": "display_data"
    },
    {
     "data": {
      "application/vnd.jupyter.widget-view+json": {
       "model_id": "8a7a9c7bbc804c6ea4f2de4467af9d6b",
       "version_major": 2,
       "version_minor": 0
      },
      "text/plain": [
       "Markov Chain:   0%|          | 0/1000000 [00:00<?, ?it/s]"
      ]
     },
     "metadata": {},
     "output_type": "display_data"
    },
    {
     "data": {
      "application/vnd.jupyter.widget-view+json": {
       "model_id": "892fea6ce0674fc882fa7687d0099b94",
       "version_major": 2,
       "version_minor": 0
      },
      "text/plain": [
       "Markov Chain:   0%|          | 0/1000000 [00:00<?, ?it/s]"
      ]
     },
     "metadata": {},
     "output_type": "display_data"
    },
    {
     "data": {
      "application/vnd.jupyter.widget-view+json": {
       "model_id": "28f1add8664d4edb9d4d8ad625526491",
       "version_major": 2,
       "version_minor": 0
      },
      "text/plain": [
       "Markov Chain:   0%|          | 0/1000000 [00:00<?, ?it/s]"
      ]
     },
     "metadata": {},
     "output_type": "display_data"
    },
    {
     "data": {
      "application/vnd.jupyter.widget-view+json": {
       "model_id": "afa6ee15f9694da887c1696bf9da8f3c",
       "version_major": 2,
       "version_minor": 0
      },
      "text/plain": [
       "Markov Chain:   0%|          | 0/1000000 [00:00<?, ?it/s]"
      ]
     },
     "metadata": {},
     "output_type": "display_data"
    },
    {
     "data": {
      "application/vnd.jupyter.widget-view+json": {
       "model_id": "9c48f994f68c4f74b4eca28cf571aeb4",
       "version_major": 2,
       "version_minor": 0
      },
      "text/plain": [
       "Markov Chain:   0%|          | 0/1000000 [00:00<?, ?it/s]"
      ]
     },
     "metadata": {},
     "output_type": "display_data"
    },
    {
     "data": {
      "application/vnd.jupyter.widget-view+json": {
       "model_id": "0c101177b13c4740b94d8d16cdf98a11",
       "version_major": 2,
       "version_minor": 0
      },
      "text/plain": [
       "Markov Chain:   0%|          | 0/1000000 [00:00<?, ?it/s]"
      ]
     },
     "metadata": {},
     "output_type": "display_data"
    },
    {
     "data": {
      "application/vnd.jupyter.widget-view+json": {
       "model_id": "3f7da9aad2724e87bd3bdff5af02129f",
       "version_major": 2,
       "version_minor": 0
      },
      "text/plain": [
       "Markov Chain:   0%|          | 0/1000000 [00:00<?, ?it/s]"
      ]
     },
     "metadata": {},
     "output_type": "display_data"
    },
    {
     "data": {
      "application/vnd.jupyter.widget-view+json": {
       "model_id": "bf9c151698744ee0957d31142ae2fe65",
       "version_major": 2,
       "version_minor": 0
      },
      "text/plain": [
       "Markov Chain:   0%|          | 0/1000000 [00:00<?, ?it/s]"
      ]
     },
     "metadata": {},
     "output_type": "display_data"
    },
    {
     "data": {
      "application/vnd.jupyter.widget-view+json": {
       "model_id": "20196910a5f1463283c79c933727d84f",
       "version_major": 2,
       "version_minor": 0
      },
      "text/plain": [
       "Markov Chain:   0%|          | 0/1000000 [00:00<?, ?it/s]"
      ]
     },
     "metadata": {},
     "output_type": "display_data"
    },
    {
     "data": {
      "application/vnd.jupyter.widget-view+json": {
       "model_id": "b0eb77c42b654b3e9cf0cff72fe2546d",
       "version_major": 2,
       "version_minor": 0
      },
      "text/plain": [
       "Markov Chain:   0%|          | 0/1000000 [00:00<?, ?it/s]"
      ]
     },
     "metadata": {},
     "output_type": "display_data"
    },
    {
     "data": {
      "application/vnd.jupyter.widget-view+json": {
       "model_id": "350ff874c1c9439d8f9c60230d618695",
       "version_major": 2,
       "version_minor": 0
      },
      "text/plain": [
       "Markov Chain:   0%|          | 0/1000000 [00:00<?, ?it/s]"
      ]
     },
     "metadata": {},
     "output_type": "display_data"
    },
    {
     "data": {
      "application/vnd.jupyter.widget-view+json": {
       "model_id": "0ce79f99014c4733851006b49fe1e1da",
       "version_major": 2,
       "version_minor": 0
      },
      "text/plain": [
       "Markov Chain:   0%|          | 0/1000000 [00:00<?, ?it/s]"
      ]
     },
     "metadata": {},
     "output_type": "display_data"
    },
    {
     "data": {
      "application/vnd.jupyter.widget-view+json": {
       "model_id": "ebef4435033c4904a0a656cbfae99aa1",
       "version_major": 2,
       "version_minor": 0
      },
      "text/plain": [
       "Markov Chain:   0%|          | 0/1000000 [00:00<?, ?it/s]"
      ]
     },
     "metadata": {},
     "output_type": "display_data"
    },
    {
     "data": {
      "application/vnd.jupyter.widget-view+json": {
       "model_id": "2113d8684e5f4c9685db541e9f85691e",
       "version_major": 2,
       "version_minor": 0
      },
      "text/plain": [
       "Markov Chain:   0%|          | 0/1000000 [00:00<?, ?it/s]"
      ]
     },
     "metadata": {},
     "output_type": "display_data"
    },
    {
     "data": {
      "application/vnd.jupyter.widget-view+json": {
       "model_id": "a917ecd3820e4085a417133cf06ba582",
       "version_major": 2,
       "version_minor": 0
      },
      "text/plain": [
       "Markov Chain:   0%|          | 0/1000000 [00:00<?, ?it/s]"
      ]
     },
     "metadata": {},
     "output_type": "display_data"
    },
    {
     "data": {
      "application/vnd.jupyter.widget-view+json": {
       "model_id": "8c9f27358e364ff395cacc0a60b372e7",
       "version_major": 2,
       "version_minor": 0
      },
      "text/plain": [
       "Markov Chain:   0%|          | 0/1000000 [00:00<?, ?it/s]"
      ]
     },
     "metadata": {},
     "output_type": "display_data"
    },
    {
     "data": {
      "application/vnd.jupyter.widget-view+json": {
       "model_id": "7fb4272b82f54482b2666bb2ce164edc",
       "version_major": 2,
       "version_minor": 0
      },
      "text/plain": [
       "Markov Chain:   0%|          | 0/1000000 [00:00<?, ?it/s]"
      ]
     },
     "metadata": {},
     "output_type": "display_data"
    },
    {
     "data": {
      "application/vnd.jupyter.widget-view+json": {
       "model_id": "260c865318a545338ce5bde80745ea6f",
       "version_major": 2,
       "version_minor": 0
      },
      "text/plain": [
       "Markov Chain:   0%|          | 0/1000000 [00:00<?, ?it/s]"
      ]
     },
     "metadata": {},
     "output_type": "display_data"
    },
    {
     "data": {
      "application/vnd.jupyter.widget-view+json": {
       "model_id": "9e8adffaa0e1430e8e7f98c9fcd3b00e",
       "version_major": 2,
       "version_minor": 0
      },
      "text/plain": [
       "Markov Chain:   0%|          | 0/1000000 [00:00<?, ?it/s]"
      ]
     },
     "metadata": {},
     "output_type": "display_data"
    },
    {
     "data": {
      "application/vnd.jupyter.widget-view+json": {
       "model_id": "e3e69c3526694ae5b254584763a9b385",
       "version_major": 2,
       "version_minor": 0
      },
      "text/plain": [
       "Markov Chain:   0%|          | 0/1000000 [00:00<?, ?it/s]"
      ]
     },
     "metadata": {},
     "output_type": "display_data"
    },
    {
     "data": {
      "application/vnd.jupyter.widget-view+json": {
       "model_id": "4260e7aef05646a5af8f7a7fd471746a",
       "version_major": 2,
       "version_minor": 0
      },
      "text/plain": [
       "Markov Chain:   0%|          | 0/1000000 [00:00<?, ?it/s]"
      ]
     },
     "metadata": {},
     "output_type": "display_data"
    },
    {
     "data": {
      "application/vnd.jupyter.widget-view+json": {
       "model_id": "63a4e326a3e44f02b4745b3717deec97",
       "version_major": 2,
       "version_minor": 0
      },
      "text/plain": [
       "Markov Chain:   0%|          | 0/1000000 [00:00<?, ?it/s]"
      ]
     },
     "metadata": {},
     "output_type": "display_data"
    },
    {
     "data": {
      "application/vnd.jupyter.widget-view+json": {
       "model_id": "f88712ae18084607afad73fb1100b716",
       "version_major": 2,
       "version_minor": 0
      },
      "text/plain": [
       "Markov Chain:   0%|          | 0/1000000 [00:00<?, ?it/s]"
      ]
     },
     "metadata": {},
     "output_type": "display_data"
    },
    {
     "data": {
      "application/vnd.jupyter.widget-view+json": {
       "model_id": "f4c39ab95fd14603ad43e2661fc7b277",
       "version_major": 2,
       "version_minor": 0
      },
      "text/plain": [
       "Markov Chain:   0%|          | 0/1000000 [00:00<?, ?it/s]"
      ]
     },
     "metadata": {},
     "output_type": "display_data"
    },
    {
     "data": {
      "application/vnd.jupyter.widget-view+json": {
       "model_id": "0472215615bd48448208c3bc2980abb9",
       "version_major": 2,
       "version_minor": 0
      },
      "text/plain": [
       "Markov Chain:   0%|          | 0/1000000 [00:00<?, ?it/s]"
      ]
     },
     "metadata": {},
     "output_type": "display_data"
    },
    {
     "data": {
      "application/vnd.jupyter.widget-view+json": {
       "model_id": "df7a3e043b8040ca8c91bd89793bf061",
       "version_major": 2,
       "version_minor": 0
      },
      "text/plain": [
       "Markov Chain:   0%|          | 0/1000000 [00:00<?, ?it/s]"
      ]
     },
     "metadata": {},
     "output_type": "display_data"
    },
    {
     "data": {
      "application/vnd.jupyter.widget-view+json": {
       "model_id": "024d5407a8d84df596ba011fc26a3829",
       "version_major": 2,
       "version_minor": 0
      },
      "text/plain": [
       "Markov Chain:   0%|          | 0/1000000 [00:00<?, ?it/s]"
      ]
     },
     "metadata": {},
     "output_type": "display_data"
    },
    {
     "data": {
      "application/vnd.jupyter.widget-view+json": {
       "model_id": "4101e4dea0dc49348149c7dcfb1f9231",
       "version_major": 2,
       "version_minor": 0
      },
      "text/plain": [
       "Markov Chain:   0%|          | 0/1000000 [00:00<?, ?it/s]"
      ]
     },
     "metadata": {},
     "output_type": "display_data"
    },
    {
     "data": {
      "application/vnd.jupyter.widget-view+json": {
       "model_id": "88073ef6eb19435baab59243ce29f599",
       "version_major": 2,
       "version_minor": 0
      },
      "text/plain": [
       "Markov Chain:   0%|          | 0/1000000 [00:00<?, ?it/s]"
      ]
     },
     "metadata": {},
     "output_type": "display_data"
    },
    {
     "data": {
      "application/vnd.jupyter.widget-view+json": {
       "model_id": "8d65cf0a45ad4ef6b1ccf87983d2d964",
       "version_major": 2,
       "version_minor": 0
      },
      "text/plain": [
       "Markov Chain:   0%|          | 0/1000000 [00:00<?, ?it/s]"
      ]
     },
     "metadata": {},
     "output_type": "display_data"
    },
    {
     "data": {
      "application/vnd.jupyter.widget-view+json": {
       "model_id": "226ccd44eeaf415587ce7d57c6de7096",
       "version_major": 2,
       "version_minor": 0
      },
      "text/plain": [
       "Markov Chain:   0%|          | 0/1000000 [00:00<?, ?it/s]"
      ]
     },
     "metadata": {},
     "output_type": "display_data"
    },
    {
     "data": {
      "application/vnd.jupyter.widget-view+json": {
       "model_id": "06aa4133d4c04db78b9b7d0ddb608d05",
       "version_major": 2,
       "version_minor": 0
      },
      "text/plain": [
       "Markov Chain:   0%|          | 0/1000000 [00:00<?, ?it/s]"
      ]
     },
     "metadata": {},
     "output_type": "display_data"
    },
    {
     "data": {
      "application/vnd.jupyter.widget-view+json": {
       "model_id": "59be46c08aad41f8803e9bddf9bf42b7",
       "version_major": 2,
       "version_minor": 0
      },
      "text/plain": [
       "Markov Chain:   0%|          | 0/1000000 [00:00<?, ?it/s]"
      ]
     },
     "metadata": {},
     "output_type": "display_data"
    },
    {
     "data": {
      "application/vnd.jupyter.widget-view+json": {
       "model_id": "ae7fec28a0f74a94bc6d1f4515a1ab92",
       "version_major": 2,
       "version_minor": 0
      },
      "text/plain": [
       "Markov Chain:   0%|          | 0/1000000 [00:00<?, ?it/s]"
      ]
     },
     "metadata": {},
     "output_type": "display_data"
    },
    {
     "data": {
      "application/vnd.jupyter.widget-view+json": {
       "model_id": "b9b749d71c9741b698586c1a44215fed",
       "version_major": 2,
       "version_minor": 0
      },
      "text/plain": [
       "Markov Chain:   0%|          | 0/1000000 [00:00<?, ?it/s]"
      ]
     },
     "metadata": {},
     "output_type": "display_data"
    },
    {
     "data": {
      "application/vnd.jupyter.widget-view+json": {
       "model_id": "5a33e26925f2466993e846551fdb87b6",
       "version_major": 2,
       "version_minor": 0
      },
      "text/plain": [
       "Markov Chain:   0%|          | 0/1000000 [00:00<?, ?it/s]"
      ]
     },
     "metadata": {},
     "output_type": "display_data"
    },
    {
     "data": {
      "application/vnd.jupyter.widget-view+json": {
       "model_id": "211f8e7d44644fb9b74038ece0074923",
       "version_major": 2,
       "version_minor": 0
      },
      "text/plain": [
       "Markov Chain:   0%|          | 0/1000000 [00:00<?, ?it/s]"
      ]
     },
     "metadata": {},
     "output_type": "display_data"
    },
    {
     "data": {
      "application/vnd.jupyter.widget-view+json": {
       "model_id": "b527038c002c46c09d59b39e4b575d42",
       "version_major": 2,
       "version_minor": 0
      },
      "text/plain": [
       "Markov Chain:   0%|          | 0/1000000 [00:00<?, ?it/s]"
      ]
     },
     "metadata": {},
     "output_type": "display_data"
    },
    {
     "data": {
      "application/vnd.jupyter.widget-view+json": {
       "model_id": "83f5f03b635246d9b8b7b647d89f0f5e",
       "version_major": 2,
       "version_minor": 0
      },
      "text/plain": [
       "Markov Chain:   0%|          | 0/1000000 [00:00<?, ?it/s]"
      ]
     },
     "metadata": {},
     "output_type": "display_data"
    },
    {
     "data": {
      "application/vnd.jupyter.widget-view+json": {
       "model_id": "6f6700602149429cb6346142fbdf0f63",
       "version_major": 2,
       "version_minor": 0
      },
      "text/plain": [
       "Markov Chain:   0%|          | 0/1000000 [00:00<?, ?it/s]"
      ]
     },
     "metadata": {},
     "output_type": "display_data"
    },
    {
     "data": {
      "application/vnd.jupyter.widget-view+json": {
       "model_id": "9f2ee2e567a74b68a896d42a0ceea3f4",
       "version_major": 2,
       "version_minor": 0
      },
      "text/plain": [
       "Markov Chain:   0%|          | 0/1000000 [00:00<?, ?it/s]"
      ]
     },
     "metadata": {},
     "output_type": "display_data"
    },
    {
     "data": {
      "application/vnd.jupyter.widget-view+json": {
       "model_id": "7349470f01d042f4a6fb1ba8d6cd1a33",
       "version_major": 2,
       "version_minor": 0
      },
      "text/plain": [
       "Markov Chain:   0%|          | 0/1000000 [00:00<?, ?it/s]"
      ]
     },
     "metadata": {},
     "output_type": "display_data"
    },
    {
     "data": {
      "application/vnd.jupyter.widget-view+json": {
       "model_id": "e28ff900407c43baa2c89fe7ef22d934",
       "version_major": 2,
       "version_minor": 0
      },
      "text/plain": [
       "Markov Chain:   0%|          | 0/1000000 [00:00<?, ?it/s]"
      ]
     },
     "metadata": {},
     "output_type": "display_data"
    },
    {
     "data": {
      "application/vnd.jupyter.widget-view+json": {
       "model_id": "1fd5718b980944b7995ec245b930d03a",
       "version_major": 2,
       "version_minor": 0
      },
      "text/plain": [
       "Markov Chain:   0%|          | 0/1000000 [00:00<?, ?it/s]"
      ]
     },
     "metadata": {},
     "output_type": "display_data"
    },
    {
     "data": {
      "application/vnd.jupyter.widget-view+json": {
       "model_id": "8687a143eab04218a681585ae81c457c",
       "version_major": 2,
       "version_minor": 0
      },
      "text/plain": [
       "Markov Chain:   0%|          | 0/1000000 [00:00<?, ?it/s]"
      ]
     },
     "metadata": {},
     "output_type": "display_data"
    },
    {
     "data": {
      "application/vnd.jupyter.widget-view+json": {
       "model_id": "8a9a7b40a9024cb9a40e3b21a1f5a458",
       "version_major": 2,
       "version_minor": 0
      },
      "text/plain": [
       "Markov Chain:   0%|          | 0/1000000 [00:00<?, ?it/s]"
      ]
     },
     "metadata": {},
     "output_type": "display_data"
    },
    {
     "data": {
      "application/vnd.jupyter.widget-view+json": {
       "model_id": "cfc9216e43424d19bb4782cdbf644aec",
       "version_major": 2,
       "version_minor": 0
      },
      "text/plain": [
       "Markov Chain:   0%|          | 0/1000000 [00:00<?, ?it/s]"
      ]
     },
     "metadata": {},
     "output_type": "display_data"
    },
    {
     "data": {
      "application/vnd.jupyter.widget-view+json": {
       "model_id": "9c2b367bd9fe4f8badaf43785f17912f",
       "version_major": 2,
       "version_minor": 0
      },
      "text/plain": [
       "Markov Chain:   0%|          | 0/1000000 [00:00<?, ?it/s]"
      ]
     },
     "metadata": {},
     "output_type": "display_data"
    },
    {
     "data": {
      "application/vnd.jupyter.widget-view+json": {
       "model_id": "5b10c2a0a5f14cfcbea200508ded45e5",
       "version_major": 2,
       "version_minor": 0
      },
      "text/plain": [
       "Markov Chain:   0%|          | 0/1000000 [00:00<?, ?it/s]"
      ]
     },
     "metadata": {},
     "output_type": "display_data"
    },
    {
     "data": {
      "application/vnd.jupyter.widget-view+json": {
       "model_id": "f55c2fa3779c4297a8e4049255120e4c",
       "version_major": 2,
       "version_minor": 0
      },
      "text/plain": [
       "Markov Chain:   0%|          | 0/1000000 [00:00<?, ?it/s]"
      ]
     },
     "metadata": {},
     "output_type": "display_data"
    },
    {
     "data": {
      "application/vnd.jupyter.widget-view+json": {
       "model_id": "044fac508a0d462a927ed33b53a9ee96",
       "version_major": 2,
       "version_minor": 0
      },
      "text/plain": [
       "Markov Chain:   0%|          | 0/1000000 [00:00<?, ?it/s]"
      ]
     },
     "metadata": {},
     "output_type": "display_data"
    },
    {
     "data": {
      "application/vnd.jupyter.widget-view+json": {
       "model_id": "fe29b92214d148f593b37ae33b222c37",
       "version_major": 2,
       "version_minor": 0
      },
      "text/plain": [
       "Markov Chain:   0%|          | 0/1000000 [00:00<?, ?it/s]"
      ]
     },
     "metadata": {},
     "output_type": "display_data"
    },
    {
     "data": {
      "application/vnd.jupyter.widget-view+json": {
       "model_id": "65a4fa7eb8814078a189c609990eca4b",
       "version_major": 2,
       "version_minor": 0
      },
      "text/plain": [
       "Markov Chain:   0%|          | 0/1000000 [00:00<?, ?it/s]"
      ]
     },
     "metadata": {},
     "output_type": "display_data"
    },
    {
     "data": {
      "application/vnd.jupyter.widget-view+json": {
       "model_id": "6a460fa3da384e29aa9c714bb5fc1fac",
       "version_major": 2,
       "version_minor": 0
      },
      "text/plain": [
       "Markov Chain:   0%|          | 0/1000000 [00:00<?, ?it/s]"
      ]
     },
     "metadata": {},
     "output_type": "display_data"
    },
    {
     "data": {
      "application/vnd.jupyter.widget-view+json": {
       "model_id": "e1874e3c928d44fe928a5a7ef9fea547",
       "version_major": 2,
       "version_minor": 0
      },
      "text/plain": [
       "Markov Chain:   0%|          | 0/1000000 [00:00<?, ?it/s]"
      ]
     },
     "metadata": {},
     "output_type": "display_data"
    },
    {
     "data": {
      "application/vnd.jupyter.widget-view+json": {
       "model_id": "fbe163233b844b0abebdce8084ce2911",
       "version_major": 2,
       "version_minor": 0
      },
      "text/plain": [
       "Markov Chain:   0%|          | 0/1000000 [00:00<?, ?it/s]"
      ]
     },
     "metadata": {},
     "output_type": "display_data"
    },
    {
     "data": {
      "application/vnd.jupyter.widget-view+json": {
       "model_id": "25c96307d77c41c6bd30521d8f5bb1f3",
       "version_major": 2,
       "version_minor": 0
      },
      "text/plain": [
       "Markov Chain:   0%|          | 0/1000000 [00:00<?, ?it/s]"
      ]
     },
     "metadata": {},
     "output_type": "display_data"
    },
    {
     "data": {
      "application/vnd.jupyter.widget-view+json": {
       "model_id": "e5a24543f9ea45ffadf003342dc40c5f",
       "version_major": 2,
       "version_minor": 0
      },
      "text/plain": [
       "Markov Chain:   0%|          | 0/1000000 [00:00<?, ?it/s]"
      ]
     },
     "metadata": {},
     "output_type": "display_data"
    },
    {
     "data": {
      "application/vnd.jupyter.widget-view+json": {
       "model_id": "c34638b08788441b8aaca7b5e21cdbf8",
       "version_major": 2,
       "version_minor": 0
      },
      "text/plain": [
       "Markov Chain:   0%|          | 0/1000000 [00:00<?, ?it/s]"
      ]
     },
     "metadata": {},
     "output_type": "display_data"
    },
    {
     "data": {
      "application/vnd.jupyter.widget-view+json": {
       "model_id": "314a69ec7ad54e1fbb709489cc8c6314",
       "version_major": 2,
       "version_minor": 0
      },
      "text/plain": [
       "Markov Chain:   0%|          | 0/1000000 [00:00<?, ?it/s]"
      ]
     },
     "metadata": {},
     "output_type": "display_data"
    },
    {
     "data": {
      "application/vnd.jupyter.widget-view+json": {
       "model_id": "a3e1eb6df6fa4ab49c1318e19633130f",
       "version_major": 2,
       "version_minor": 0
      },
      "text/plain": [
       "Markov Chain:   0%|          | 0/1000000 [00:00<?, ?it/s]"
      ]
     },
     "metadata": {},
     "output_type": "display_data"
    },
    {
     "data": {
      "application/vnd.jupyter.widget-view+json": {
       "model_id": "213df15122514ef7974246b71be1d67e",
       "version_major": 2,
       "version_minor": 0
      },
      "text/plain": [
       "Markov Chain:   0%|          | 0/1000000 [00:00<?, ?it/s]"
      ]
     },
     "metadata": {},
     "output_type": "display_data"
    },
    {
     "data": {
      "application/vnd.jupyter.widget-view+json": {
       "model_id": "55a7462309ec4f3db84ab89f8f3a785a",
       "version_major": 2,
       "version_minor": 0
      },
      "text/plain": [
       "Markov Chain:   0%|          | 0/1000000 [00:00<?, ?it/s]"
      ]
     },
     "metadata": {},
     "output_type": "display_data"
    },
    {
     "data": {
      "application/vnd.jupyter.widget-view+json": {
       "model_id": "d7c947d5e40a45499bfc747195d04af3",
       "version_major": 2,
       "version_minor": 0
      },
      "text/plain": [
       "Markov Chain:   0%|          | 0/1000000 [00:00<?, ?it/s]"
      ]
     },
     "metadata": {},
     "output_type": "display_data"
    },
    {
     "data": {
      "application/vnd.jupyter.widget-view+json": {
       "model_id": "c3a7ebf946d94e5985093bbf625ceb33",
       "version_major": 2,
       "version_minor": 0
      },
      "text/plain": [
       "Markov Chain:   0%|          | 0/1000000 [00:00<?, ?it/s]"
      ]
     },
     "metadata": {},
     "output_type": "display_data"
    },
    {
     "data": {
      "application/vnd.jupyter.widget-view+json": {
       "model_id": "a2fb8e37d1e54cf4a4da46e868480cd4",
       "version_major": 2,
       "version_minor": 0
      },
      "text/plain": [
       "Markov Chain:   0%|          | 0/1000000 [00:00<?, ?it/s]"
      ]
     },
     "metadata": {},
     "output_type": "display_data"
    }
   ],
   "source": [
    "rad_vals = []\n",
    "\n",
    "for i in tnrange(100,desc='Set of Markov Chains'):\n",
    "    rad_vals.append(mcmc())"
   ]
  },
  {
   "cell_type": "code",
   "execution_count": 56,
   "metadata": {},
   "outputs": [
    {
     "data": {
      "image/png": "[encoded data removed]",
      "text/plain": [
       "<Figure size 1200x800 with 1 Axes>"
      ]
     },
     "metadata": {
      "needs_background": "light"
     },
     "output_type": "display_data"
    }
   ],
   "source": [
    "plt.figure(dpi=200)\n",
    "plt.hist(rad_vals,bins=20)\n",
    "plt.xlabel('Expected Radiation')\n",
    "plt.ylabel('Count')\n",
    "plt.show()"
   ]
  },
  {
   "cell_type": "code",
   "execution_count": 59,
   "metadata": {},
   "outputs": [
    {
     "data": {
      "text/plain": [
       "6.17840282159718"
      ]
     },
     "execution_count": 59,
     "metadata": {},
     "output_type": "execute_result"
    }
   ],
   "source": [
    "np.mean(rad_vals)"
   ]
  }
 ],
 "metadata": {
  "kernelspec": {
   "display_name": "data",
   "language": "python",
   "name": "data"
  },
  "language_info": {
   "codemirror_mode": {
    "name": "ipython",
    "version": 3
   },
   "file_extension": ".py",
   "mimetype": "text/x-python",
   "name": "python",
   "nbconvert_exporter": "python",
   "pygments_lexer": "ipython3",
   "version": "3.7.9"
  }
 },
 "nbformat": 4,
 "nbformat_minor": 4
}
